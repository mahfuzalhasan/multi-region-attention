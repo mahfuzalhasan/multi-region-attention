{
 "cells": [
  {
   "cell_type": "code",
   "execution_count": null,
   "metadata": {},
   "outputs": [],
   "source": [
    "import requests\n",
    "from tqdm import tqdm\n",
    "import os\n",
    "import zipfile"
   ]
  },
  {
   "cell_type": "markdown",
   "metadata": {},
   "source": [
    "## Download"
   ]
  },
  {
   "cell_type": "code",
   "execution_count": null,
   "metadata": {},
   "outputs": [],
   "source": [
    "def download_file(url, filename):\n",
    "    # Ensure the directory exists\n",
    "    os.makedirs(os.path.dirname(filename), exist_ok=True)\n",
    "\n",
    "    # Start the download\n",
    "    with requests.get(url, stream=True) as response:\n",
    "        response.raise_for_status()  # Check for request errors\n",
    "\n",
    "        total_size = int(response.headers.get('content-length', 0))\n",
    "        block_size = 1024 * 1024  # Use a larger block size of 1MB\n",
    "\n",
    "        progress_bar = tqdm(total=total_size, unit='B', unit_scale=True, desc=\"Downloading\")\n",
    "\n",
    "        with open(filename, 'wb') as file:\n",
    "            for chunk in response.iter_content(chunk_size=block_size):\n",
    "                if chunk:  # Filter out keep-alive new chunks\n",
    "                    file.write(chunk)\n",
    "                    progress_bar.update(len(chunk))\n",
    "        progress_bar.close()"
   ]
  },
  {
   "cell_type": "code",
   "execution_count": null,
   "metadata": {},
   "outputs": [],
   "source": [
    "# Define the URL of the ImageNet dataset\n",
    "url = \"https://storage.googleapis.com/kaggle-competitions-data/kaggle-v2/6799/4225553/bundle/archive.zip?GoogleAccessId=web-data@kaggle-161607.iam.gserviceaccount.com&Expires=1704061320&Signature=TEYsta0BOIIfbTZLR%2FQgLAP1IkSd6qUNs%2BEETbdx2yDGsZaBdFm4rdjhO5anvFUksnTuaGs2ar99vV2SG8SeHwxlD6GiSfNYzVay2FmKwJ36bqwQGrXPSlF0Cb3ncIeI0epFNtTInd9PrkMKC9t0LZZQ%2F9zleUU7qlpOuAUex6CyiL8JM%2Bt6d6PLmBUoNUK6Tp9OBgPvnZITXZarpSOLp6w6b6Zct3hidgzyfFt8mYGwEpicDUvbuDQYMS1qsrqL5w9KK%2BLEX7XwaN2T2ZBkd2%2BR5PAX3DNcCI7U8SYXsjFEmUMNQS6B%2BPvprFSKDlfLhJbBuLZB9uoqEcAjCqB22Q%3D%3D&response-content-disposition=attachment%3B+filename%3Dimagenet-object-localization-challenge.zip\"\n",
    "\n",
    "# Define the path where the dataset will be saved\n",
    "path = \"/home/abjawad/Documents\"\n",
    "filename = os.path.join(path, \"imagenet-object-localization-challenge.zip\")\n",
    "\n",
    "# Download the dataset\n",
    "download_file(url, filename)"
   ]
  },
  {
   "cell_type": "markdown",
   "metadata": {},
   "source": [
    "## Extract"
   ]
  },
  {
   "cell_type": "code",
   "execution_count": 8,
   "metadata": {},
   "outputs": [
    {
     "name": "stderr",
     "output_type": "stream",
     "text": [
      "Extracting: ILSVRC/Data/CLS-LOC/test/ILSVRC2012_test_00022908.JPEG:   1%|          | 22908/2025721 [04:33<6:38:24, 83.78file/s]\n",
      "Extracting: ILSVRC/Data/CLS-LOC/test/ILSVRC2012_test_00010433.JPEG:   1%|          | 10433/2025721 [02:57<9:29:50, 58.94file/s] \n",
      "Extracting: LOC_val_solution.csv:  71%|███████   | 1431175/2025721 [1:05:44<27:18, 362.82file/s]                                     \n"
     ]
    }
   ],
   "source": [
    "save_path = os.path.join(path, \"imagenet\")\n",
    "# Extract the dataset\n",
    "with zipfile.ZipFile(filename, 'r') as zip_ref:\n",
    "    file_list = zip_ref.namelist()\n",
    "    total_files = len(file_list)\n",
    "    extracted_files = 0\n",
    "    progress_bar = tqdm(total=total_files, unit='file')\n",
    "    for file in file_list:\n",
    "        if \"ILSVRC/Annotations/\" in file:\n",
    "            continue\n",
    "        zip_ref.extract(file, path=save_path)\n",
    "        extracted_files += 1\n",
    "        progress_bar.update(1)\n",
    "        progress_bar.set_description(f\"Extracting: {file}\")\n",
    "    progress_bar.close()\n"
   ]
  }
 ],
 "metadata": {
  "kernelspec": {
   "display_name": "pt",
   "language": "python",
   "name": "python3"
  },
  "language_info": {
   "codemirror_mode": {
    "name": "ipython",
    "version": 3
   },
   "file_extension": ".py",
   "mimetype": "text/x-python",
   "name": "python",
   "nbconvert_exporter": "python",
   "pygments_lexer": "ipython3",
   "version": "3.7.12"
  },
  "orig_nbformat": 4
 },
 "nbformat": 4,
 "nbformat_minor": 2
}
