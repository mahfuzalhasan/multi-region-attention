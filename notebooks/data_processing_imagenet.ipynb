{
 "cells": [
  {
   "cell_type": "code",
   "execution_count": 7,
   "metadata": {},
   "outputs": [],
   "source": [
    "import os\n",
    "import multiprocessing\n",
    "import tarfile"
   ]
  },
  {
   "cell_type": "code",
   "execution_count": 8,
   "metadata": {},
   "outputs": [
    {
     "name": "stdout",
     "output_type": "stream",
     "text": [
      "train_images_0\n",
      "train_images_2\n",
      "train_images_3\n",
      "train_images_4\n",
      "train_images_1\n",
      "test_images\n",
      "val_images\n"
     ]
    }
   ],
   "source": [
    "file_path = '/home/abjawad/Documents/'\n",
    "\n",
    "# get all .tar.gz files in the directory\n",
    "files = [f for f in os.listdir(file_path) if f.endswith('.tar.gz')]\n",
    "for file in files:\n",
    "    file_name = file.split('.')[0]\n",
    "    print(file_name)\n",
    "    # create a directory with the same name as the file\n"
   ]
  },
  {
   "cell_type": "code",
   "execution_count": 9,
   "metadata": {},
   "outputs": [],
   "source": [
    "\n",
    "def extract_tar(file_path, target_directory):\n",
    "    file_name = os.path.basename(file_path)\n",
    "    folder_name = file_name.split('.')[0]\n",
    "    target_path = os.path.join(target_directory, folder_name)\n",
    "\n",
    "    # Check if the directory already exists\n",
    "    if not os.path.exists(target_path):\n",
    "        os.makedirs(target_path)\n",
    "\n",
    "        # Extract the .tar.gz file\n",
    "        with tarfile.open(file_path, 'r:gz') as tar:\n",
    "            tar.extractall(path=target_path)\n",
    "            print(f\"Extracted {file_name} to {target_path}\")\n",
    "    else:\n",
    "        print(f\"Skipping {file_name} as it already exists\")\n"
   ]
  },
  {
   "cell_type": "code",
   "execution_count": 10,
   "metadata": {},
   "outputs": [
    {
     "name": "stdout",
     "output_type": "stream",
     "text": [
      "Skipping train_images_0.tar.gz as it already existsSkipping val_images.tar.gz as it already exists\n",
      "\n",
      "Extracted test_images.tar.gz to /home/abjawad/Documents/test_images\n",
      "Extracted train_images_3.tar.gz to /home/abjawad/Documents/train_images_3\n",
      "Extracted train_images_1.tar.gz to /home/abjawad/Documents/train_images_1\n",
      "Extracted train_images_2.tar.gz to /home/abjawad/Documents/train_images_2\n",
      "Extracted train_images_4.tar.gz to /home/abjawad/Documents/train_images_4\n"
     ]
    }
   ],
   "source": [
    "file_path = '/home/abjawad/Documents/'\n",
    "\n",
    "# Get all .tar.gz files in the directory\n",
    "files = [f for f in os.listdir(file_path) if f.endswith('.tar.gz')]\n",
    "\n",
    "# Number of processes (you can adjust this based on the available CPU cores)\n",
    "num_processes = multiprocessing.cpu_count()\n",
    "\n",
    "# Create a multiprocessing pool and extract files in parallel\n",
    "with multiprocessing.Pool(num_processes) as pool:\n",
    "    pool.starmap(extract_tar, [(os.path.join(file_path, file), file_path) for file in files])\n"
   ]
  }
 ],
 "metadata": {
  "kernelspec": {
   "display_name": "kd",
   "language": "python",
   "name": "python3"
  },
  "language_info": {
   "codemirror_mode": {
    "name": "ipython",
    "version": 3
   },
   "file_extension": ".py",
   "mimetype": "text/x-python",
   "name": "python",
   "nbconvert_exporter": "python",
   "pygments_lexer": "ipython3",
   "version": "3.7.12"
  }
 },
 "nbformat": 4,
 "nbformat_minor": 2
}
